{
 "cells": [
  {
   "cell_type": "markdown",
   "metadata": {},
   "source": [
    "# Tick data\n",
    "\n",
    "For optimum results this notebook should be run during the Forex trading session."
   ]
  },
  {
   "cell_type": "code",
   "execution_count": 14,
   "metadata": {},
   "outputs": [
    {
     "data": {
      "text/plain": [
       "<IB connected to 127.0.0.1:7497 clientId=15>"
      ]
     },
     "execution_count": 14,
     "metadata": {},
     "output_type": "execute_result"
    }
   ],
   "source": [
    "from ib_insync import *\n",
    "util.startLoop()\n",
    "\n",
    "ib = IB()\n",
    "ib.connect('127.0.0.1', 7497, clientId=15)"
   ]
  },
  {
   "cell_type": "markdown",
   "metadata": {},
   "source": [
    "### Streaming tick data\n",
    "\n",
    "Create some Forex contracts:"
   ]
  },
  {
   "cell_type": "code",
   "execution_count": 2,
   "metadata": {
    "collapsed": true
   },
   "outputs": [],
   "source": [
    "contracts = [Forex(pair) for pair in ('EURUSD', 'USDJPY', 'GBPUSD', 'USDCHF', 'USDCAD', 'AUDUSD')]\n",
    "ib.qualifyContracts(*contracts)\n",
    "\n",
    "eurusd = contracts[0]"
   ]
  },
  {
   "cell_type": "markdown",
   "metadata": {},
   "source": [
    "Request streaming ticks for them:"
   ]
  },
  {
   "cell_type": "code",
   "execution_count": 3,
   "metadata": {
    "collapsed": true
   },
   "outputs": [],
   "source": [
    "for contract in contracts:\n",
    "    ib.reqMktData(contract, '', False, False)"
   ]
  },
  {
   "cell_type": "markdown",
   "metadata": {},
   "source": [
    "Wait a few seconds for the tickers to get filled."
   ]
  },
  {
   "cell_type": "code",
   "execution_count": 4,
   "metadata": {},
   "outputs": [
    {
     "data": {
      "text/plain": [
       "Ticker(contract=Forex('EURUSD', conId=12087792, exchange='IDEALPRO', localSymbol='EUR.USD', tradingClass='EUR.USD'), time=datetime.datetime(2019, 4, 15, 17, 27, 47, 50672, tzinfo=datetime.timezone.utc), bid=1.13035, bidSize=2000000, ask=1.13036, askSize=2000000, prevBid=1.13034, prevBidSize=3000000, prevAsk=1.13035, prevAskSize=1000000, high=1.13205, low=1.1298, close=1.1302, ticks=[], tickByTicks=[], domBids=[], domAsks=[], domTicks=[])"
      ]
     },
     "execution_count": 4,
     "metadata": {},
     "output_type": "execute_result"
    }
   ],
   "source": [
    "ticker = ib.ticker(eurusd)\n",
    "ib.sleep(2)\n",
    "\n",
    "ticker"
   ]
  },
  {
   "cell_type": "markdown",
   "metadata": {},
   "source": [
    "The price of Forex ticks is always nan. To get a midpoint price use ``midpoint()`` or ``marketPrice()``.\n",
    "\n",
    "The tickers are kept live updated, try this a few times to see if the price changes:"
   ]
  },
  {
   "cell_type": "code",
   "execution_count": 5,
   "metadata": {},
   "outputs": [
    {
     "data": {
      "text/plain": [
       "1.130355"
      ]
     },
     "execution_count": 5,
     "metadata": {},
     "output_type": "execute_result"
    }
   ],
   "source": [
    "ticker.marketPrice()"
   ]
  },
  {
   "cell_type": "markdown",
   "metadata": {},
   "source": [
    "The following cell will start a 30 second loop that prints a live updated ticker table.\n",
    "It is updated on every ticker change."
   ]
  },
  {
   "cell_type": "code",
   "execution_count": 6,
   "metadata": {},
   "outputs": [
    {
     "data": {
      "text/html": [
       "<div>\n",
       "<style scoped>\n",
       "    .dataframe tbody tr th:only-of-type {\n",
       "        vertical-align: middle;\n",
       "    }\n",
       "\n",
       "    .dataframe tbody tr th {\n",
       "        vertical-align: top;\n",
       "    }\n",
       "\n",
       "    .dataframe thead th {\n",
       "        text-align: right;\n",
       "    }\n",
       "</style>\n",
       "<table border=\"1\" class=\"dataframe\">\n",
       "  <thead>\n",
       "    <tr style=\"text-align: right;\">\n",
       "      <th></th>\n",
       "      <th>bidSize</th>\n",
       "      <th>bid</th>\n",
       "      <th>ask</th>\n",
       "      <th>askSize</th>\n",
       "      <th>high</th>\n",
       "      <th>low</th>\n",
       "      <th>close</th>\n",
       "    </tr>\n",
       "  </thead>\n",
       "  <tbody>\n",
       "    <tr>\n",
       "      <th>EURUSD</th>\n",
       "      <td>1500000</td>\n",
       "      <td>1.13033</td>\n",
       "      <td>1.13034</td>\n",
       "      <td>2000000</td>\n",
       "      <td>1.13205</td>\n",
       "      <td>1.1298</td>\n",
       "      <td>1.1302</td>\n",
       "    </tr>\n",
       "    <tr>\n",
       "      <th>USDJPY</th>\n",
       "      <td>2000000</td>\n",
       "      <td>112.004</td>\n",
       "      <td>112.005</td>\n",
       "      <td>3000000</td>\n",
       "      <td>112.1</td>\n",
       "      <td>111.885</td>\n",
       "      <td>112.02</td>\n",
       "    </tr>\n",
       "    <tr>\n",
       "      <th>GBPUSD</th>\n",
       "      <td>1000000</td>\n",
       "      <td>1.30989</td>\n",
       "      <td>1.30993</td>\n",
       "      <td>2000000</td>\n",
       "      <td>1.31195</td>\n",
       "      <td>1.307</td>\n",
       "      <td>1.3078</td>\n",
       "    </tr>\n",
       "    <tr>\n",
       "      <th>USDCHF</th>\n",
       "      <td>3000000</td>\n",
       "      <td>1.0042</td>\n",
       "      <td>1.00425</td>\n",
       "      <td>1000000</td>\n",
       "      <td>1.00425</td>\n",
       "      <td>1.0009</td>\n",
       "      <td>1.0025</td>\n",
       "    </tr>\n",
       "    <tr>\n",
       "      <th>USDCAD</th>\n",
       "      <td>1000000</td>\n",
       "      <td>1.33721</td>\n",
       "      <td>1.33724</td>\n",
       "      <td>1000000</td>\n",
       "      <td>1.33905</td>\n",
       "      <td>1.32975</td>\n",
       "      <td>1.3325</td>\n",
       "    </tr>\n",
       "    <tr>\n",
       "      <th>AUDUSD</th>\n",
       "      <td>5000000</td>\n",
       "      <td>0.71764</td>\n",
       "      <td>0.71767</td>\n",
       "      <td>1000000</td>\n",
       "      <td>0.71825</td>\n",
       "      <td>0.71635</td>\n",
       "      <td>0.71725</td>\n",
       "    </tr>\n",
       "  </tbody>\n",
       "</table>\n",
       "</div>"
      ],
      "text/plain": [
       "        bidSize      bid      ask  askSize     high      low    close\n",
       "EURUSD  1500000  1.13033  1.13034  2000000  1.13205   1.1298   1.1302\n",
       "USDJPY  2000000  112.004  112.005  3000000    112.1  111.885   112.02\n",
       "GBPUSD  1000000  1.30989  1.30993  2000000  1.31195    1.307   1.3078\n",
       "USDCHF  3000000   1.0042  1.00425  1000000  1.00425   1.0009   1.0025\n",
       "USDCAD  1000000  1.33721  1.33724  1000000  1.33905  1.32975   1.3325\n",
       "AUDUSD  5000000  0.71764  0.71767  1000000  0.71825  0.71635  0.71725"
      ]
     },
     "metadata": {},
     "output_type": "display_data"
    }
   ],
   "source": [
    "from IPython.display import display, clear_output\n",
    "import pandas as pd\n",
    "\n",
    "df = pd.DataFrame(\n",
    "    index=[c.pair() for c in contracts],\n",
    "    columns=['bidSize', 'bid', 'ask', 'askSize', 'high', 'low', 'close'])\n",
    "\n",
    "def onPendingTickers(tickers):\n",
    "    for t in tickers:\n",
    "        df.loc[t.contract.pair()] = (\n",
    "            t.bidSize, t.bid, t.ask, t.askSize, t.high, t.low, t.close)\n",
    "        clear_output(wait=True)\n",
    "    display(df)        \n",
    "\n",
    "ib.pendingTickersEvent += onPendingTickers\n",
    "ib.sleep(30)\n",
    "ib.pendingTickersEvent -= onPendingTickers"
   ]
  },
  {
   "cell_type": "markdown",
   "metadata": {},
   "source": [
    "New tick data is available in the 'ticks' attribute of the pending tickers.\n",
    "The tick data will be cleared before the next update."
   ]
  },
  {
   "cell_type": "markdown",
   "metadata": {},
   "source": [
    "To stop the live tick subscriptions:"
   ]
  },
  {
   "cell_type": "code",
   "execution_count": 7,
   "metadata": {
    "collapsed": true
   },
   "outputs": [],
   "source": [
    "for contract in contracts:\n",
    "    ib.cancelMktData(contract)"
   ]
  },
  {
   "cell_type": "markdown",
   "metadata": {},
   "source": [
    "### Tick by Tick data ###\n",
    "\n",
    "The ticks in the previous section are time-sampled by IB in order to cut on bandwidth. So with ``reqMktdData`` not every tick from the exchanges is sent. The promise of ``reqTickByTickData`` is to send every tick, just how it appears in the TWS Time & Sales window. This functionality is severly nerfed by a total of just three simultaneous subscriptions, where bid-ask ticks and sale ticks also use up a subscription each.\n",
    "\n",
    "The tick-by-tick updates are available from ``ticker.tickByTicks`` and are signalled by ``ib.pendingTickersEvent`` or ``ticker.updateEvent``."
   ]
  },
  {
   "cell_type": "code",
   "execution_count": 8,
   "metadata": {},
   "outputs": [
    {
     "name": "stdout",
     "output_type": "stream",
     "text": [
      "Ticker(contract=Forex('EURUSD', conId=12087792, exchange='IDEALPRO', localSymbol='EUR.USD', tradingClass='EUR.USD'), time=datetime.datetime(2019, 4, 15, 17, 28, 19, 104035, tzinfo=datetime.timezone.utc), bid=1.13034, bidSize=1000000, ask=1.13035, askSize=1000000, prevBid=1.13033, prevBidSize=1500000, prevAsk=1.13034, prevAskSize=2000000, high=1.13205, low=1.1298, close=1.1302, ticks=[], tickByTicks=[TickByTickBidAsk(time=datetime.datetime(2019, 4, 15, 17, 28, 19, 104035, tzinfo=datetime.timezone.utc), bidPrice=1.13034, askPrice=1.13035, bidSize=1000000, askSize=1000000, tickAttribBidAsk=TickAttribBidAsk())], domBids=[], domAsks=[], domTicks=[])\n"
     ]
    }
   ],
   "source": [
    "ticker = ib.reqTickByTickData(eurusd, 'BidAsk')\n",
    "ib.sleep(2)\n",
    "print(ticker)\n",
    "\n",
    "ib.cancelTickByTickData(ticker.contract, 'BidAsk')"
   ]
  },
  {
   "cell_type": "markdown",
   "metadata": {},
   "source": [
    "### Historical tick data\n",
    "\n",
    "Historical tick data can be fetched with a maximum of 1000 ticks at a time. Either the start time or the end time must be given, and one of them must remain empty:"
   ]
  },
  {
   "cell_type": "code",
   "execution_count": 9,
   "metadata": {},
   "outputs": [
    {
     "data": {
      "text/plain": [
       "HistoricalTickBidAsk(time=datetime.datetime(2019, 4, 15, 17, 28, 18, tzinfo=datetime.timezone.utc), tickAttribBidAsk=TickAttribBidAsk(), priceBid=1.13034, priceAsk=1.13035, sizeBid=1000000, sizeAsk=1000000)"
      ]
     },
     "execution_count": 9,
     "metadata": {},
     "output_type": "execute_result"
    }
   ],
   "source": [
    "import datetime\n",
    "\n",
    "start = ''\n",
    "end = datetime.datetime.now()\n",
    "ticks = ib.reqHistoricalTicks(eurusd, start, end, 1000, 'BID_ASK', useRth=False)\n",
    "\n",
    "ticks[-1]"
   ]
  },
  {
   "cell_type": "code",
   "execution_count": 10,
   "metadata": {
    "collapsed": true
   },
   "outputs": [],
   "source": [
    "ib.disconnect()"
   ]
  }

 ],
 "metadata": {
  "kernelspec": {
   "display_name": "Python 3",
   "language": "python",
   "name": "python3"
  },
  "language_info": {
   "codemirror_mode": {
    "name": "ipython",
    "version": 3
   },
   "file_extension": ".py",
   "mimetype": "text/x-python",
   "name": "python",
   "nbconvert_exporter": "python",
   "pygments_lexer": "ipython3",
   "version": "3.7.3"
  }
 },
 "nbformat": 4,
 "nbformat_minor": 2
}
